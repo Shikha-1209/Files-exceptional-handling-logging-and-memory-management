{
  "nbformat": 4,
  "nbformat_minor": 0,
  "metadata": {
    "colab": {
      "provenance": []
    },
    "kernelspec": {
      "name": "python3",
      "display_name": "Python 3"
    },
    "language_info": {
      "name": "python"
    }
  },
  "cells": [
    {
      "cell_type": "markdown",
      "source": [
        "# **THEORY QUESTIONS**"
      ],
      "metadata": {
        "id": "MkpU1Gmks9Uo"
      }
    },
    {
      "cell_type": "markdown",
      "source": [
        "1.What is the difference between interpreted and compiled languages?\n",
        "\n",
        "The difference between interpreted and compiled languages is:\n",
        "\n",
        "- **Compiled languages** translate the whole source code into machine code before running, resulting in faster execution. Examples: C, C++.\n",
        "\n",
        "- **Interpreted languages** translate and execute the code line-by-line at runtime, which is slower but more flexible and portable. Examples: Python, JavaScript."
      ],
      "metadata": {
        "id": "Sha0CIr_tCoA"
      }
    },
    {
      "cell_type": "markdown",
      "source": [
        "2.What is exception handling in Python?\n",
        "\n",
        "Exception handling in Python is a mechanism to deal with errors and unexpected events that occur during the execution of a program, allowing the program to continue running gracefully instead of crashing."
      ],
      "metadata": {
        "id": "M-bE5CUhtY2z"
      }
    },
    {
      "cell_type": "markdown",
      "source": [
        "3.What is the purpose of the finally block in exception handling?\n",
        "\n",
        "The purpose of the finally block in Python exception handling is to ensure that a specific section of code runs always, regardless of whether an exception occurred or not. It is typically used for cleanup actions like closing files or releasing resources, guaranteeing these tasks are performed even if exceptions are raised or handled."
      ],
      "metadata": {
        "id": "63Ebv0UktmKL"
      }
    },
    {
      "cell_type": "markdown",
      "source": [
        "4.What is logging in Python?\n",
        "\n",
        "Logging in Python is a way to record events that happen while your program is running. It helps in debugging, monitoring, and understanding the flow of your application by providing a history of activities."
      ],
      "metadata": {
        "id": "n0unWU5Etxrn"
      }
    },
    {
      "cell_type": "markdown",
      "source": [
        "5.What is the significance of the __del__ method in Python?\n",
        "\n",
        "The _ _ del _ _ method in Python is a special destructor method called when an object is about to be destroyed (usually when its reference count drops to zero). It allows the object to perform cleanup actions, such as releasing external resources like file handles or network connections, before the object is garbage collected and memory is reclaimed."
      ],
      "metadata": {
        "id": "qv5H8naEt5_V"
      }
    },
    {
      "cell_type": "markdown",
      "source": [
        "6.What is the difference between import and from ... import in Python?\n",
        "\n",
        "The difference between import and from ... import in Python is:\n",
        "\n",
        "- **import** imports the entire module, so you access its contents with the module name as a prefix (e.g., module.name).\n",
        "\n",
        "- **from ... import** imports specific attributes or functions from a module directly into the current namespace, allowing you to use them without the module prefix.\n",
        "\n",
        "Using from ... import can make code shorter and more readable when using a few specific items often, while import keeps the namespace cleaner and the origin of names clear."
      ],
      "metadata": {
        "id": "MT6fdV2EuLGh"
      }
    },
    {
      "cell_type": "markdown",
      "source": [
        "7.How can you handle multiple exceptions in Python?\n",
        "\n",
        "You can handle multiple exceptions in Python in a few ways:\n",
        "\n",
        "- Using multiple except blocks: You can have multiple except blocks after a try block, each handling a specific exception type.\n",
        "- Grouping exceptions in a single except block: You can handle multiple exceptions with a single except block by providing a tuple of exception types.\n",
        "- Using except Exception as e: This will catch most exceptions, but it's generally not recommended for specific error handling as it can hide unexpected issues."
      ],
      "metadata": {
        "id": "2WNUhJXJugjs"
      }
    },
    {
      "cell_type": "markdown",
      "source": [
        "8.What is the purpose of the with statement when handling files in Python?\n",
        "\n",
        "The purpose of the with statement in Python when handling files is to automatically manage file opening and closing, ensuring that the file is properly closed after its block of code executes, even if exceptions occur. This makes code cleaner, safer, and prevents resource leaks without needing explicit close calls or try-finally blocks."
      ],
      "metadata": {
        "id": "h9Wkr61VuwHk"
      }
    },
    {
      "cell_type": "markdown",
      "source": [
        "9.What is the difference between multithreading and multiprocessing?\n",
        "\n",
        "The difference between multithreading and multiprocessing is:\n",
        "\n",
        "- Multithreading runs multiple threads within a single process sharing the same memory, achieving concurrency but limited by Python's Global Interpreter Lock (GIL) to one thread running at a time.\n",
        "\n",
        "- Multiprocessing runs multiple processes independently on separate CPU cores with their own memory space, achieving true parallelism and better for CPU-bound tasks.\n",
        "\n",
        "Multithreading is great for I/O-bound tasks, while multiprocessing is better for CPU-bound tasks requiring parallel execution"
      ],
      "metadata": {
        "id": "6EYN5siKu9Bg"
      }
    },
    {
      "cell_type": "markdown",
      "source": [
        "10.What are the advantages of using logging in a program?\n",
        "\n",
        "The advantages of using logging in a program include:\n",
        "\n",
        "- Helps track program behavior and understand what is happening during execution.\n",
        "\n",
        "- Enables debugging and troubleshooting by providing detailed error and event information.\n",
        "\n",
        "- Provides a record of events useful for monitoring, auditing, and analyzing application performance.\n",
        "\n",
        "- Supports real-time visibility and alerts to detect and respond to issues quickly.\n",
        "\n",
        "- Facilitates communication among developers and administrators by sharing a common log for context."
      ],
      "metadata": {
        "id": "jHGn5aslvOqX"
      }
    },
    {
      "cell_type": "markdown",
      "source": [
        "11.What is memory management in Python?\n",
        "\n",
        "Memory management in Python is handled automatically through a combination of techniques, primarily reference counting and a garbage collector. You don't typically need to manually allocate or deallocate memory like you would in languages like C or C++."
      ],
      "metadata": {
        "id": "GtxEy2C-vin-"
      }
    },
    {
      "cell_type": "markdown",
      "source": [
        "12.What are the basic steps involved in exception handling in Python?\n",
        "\n",
        "The basic steps involved in exception handling in Python are:\n",
        "\n",
        "- Write the code that might cause an exception inside a try block.\n",
        "\n",
        "- Handle the specific exception(s) using one or more except blocks.\n",
        "\n",
        "- Optionally, use an else block to run code if no exception occurs.\n",
        "\n",
        "- Optionally, use a finally block to execute code that runs no matter what, such as cleanup actions.\n",
        "\n",
        "This structure allows the program to catch errors, respond to them, and continue running safely"
      ],
      "metadata": {
        "id": "PckkGIfpvz76"
      }
    },
    {
      "cell_type": "markdown",
      "source": [
        "13.Why is memory management important in Python?\n",
        "\n",
        "Memory management is important in Python because it ensures efficient allocation and deallocation of memory, preventing memory leaks and optimizing performance. It allows Python programs to run smoothly by automatically reclaiming memory from unused objects through reference counting and garbage collection, which is crucial for handling large data and long-running applications."
      ],
      "metadata": {
        "id": "7ItzwhG2wKd9"
      }
    },
    {
      "cell_type": "markdown",
      "source": [
        "14.What is the role of try and except in exception handling?\n",
        "\n",
        "The role of the try block in Python is to test a block of code for errors that might occur during execution. The except block is used to handle those errors if they occur, preventing the program from crashing and allowing it to respond gracefully to exceptional conditions."
      ],
      "metadata": {
        "id": "93mVwzj6wWQO"
      }
    },
    {
      "cell_type": "markdown",
      "source": [
        "15.How does Python's garbage collection system work?\n",
        "\n",
        "Python's garbage collection system works by automatically freeing memory occupied by objects that are no longer in use. It primarily uses reference counting to track how many references point to each object, deallocating memory when the count reaches zero. To handle cyclic references that reference counting cannot clean up, Python uses a generational garbage collector that detects and collects these cycles, thus preventing memory leaks and optimizing memory usage."
      ],
      "metadata": {
        "id": "5PRO8ziDwhsm"
      }
    },
    {
      "cell_type": "markdown",
      "source": [
        "16.What is the purpose of the else block in exception handling?\n",
        "\n",
        "The purpose of the else block in Python exception handling is to execute a block of code only if no exception was raised in the try block. It helps separate the \"normal\" code that should run when everything works fine from the error-handling code, making the program flow clearer and avoiding unintended exception catching."
      ],
      "metadata": {
        "id": "gMTl2bqAwriB"
      }
    },
    {
      "cell_type": "markdown",
      "source": [
        "17.What are the common logging levels in Python?\n",
        "\n",
        "The common logging levels in Python, in increasing order of severity, are:\n",
        "\n",
        "- DEBUG: Detailed information for diagnosing problems.\n",
        "\n",
        "- INFO: General informational messages about program execution.\n",
        "\n",
        "- WARNING: Indications of potential issues or unexpected events.\n",
        "\n",
        "- ERROR: Errors that affect functionality but allow program continuation.\n",
        "\n",
        "- CRITICAL: Severe errors causing program termination or major failure.\n",
        "\n",
        "- NOTSET: Default lowest level, meaning no specific level is set.\n",
        "\n",
        "These levels help control the importance and verbosity of log messages."
      ],
      "metadata": {
        "id": "_QKcgbXLw3BJ"
      }
    },
    {
      "cell_type": "markdown",
      "source": [
        "18.What is the difference between os.fork() and multiprocessing in Python?\n",
        "\n",
        "The difference between os.fork() and multiprocessing in Python in short is:\n",
        "\n",
        "- os.fork() is a Unix-specific system call that creates a new child process by duplicating the current process, sharing the same memory space initially.\n",
        "\n",
        "- multiprocessing is a cross-platform Python library that creates new processes safely and independently, supporting Windows and Unix, with more control and features like process pools and inter-process communication.\n",
        "\n",
        "multiprocessing uses os.fork() on Unix internally but adds portability and higher-level abstractions"
      ],
      "metadata": {
        "id": "rd5xufeJxMEZ"
      }
    },
    {
      "cell_type": "markdown",
      "source": [
        "19.What is the importance of closing a file in Python?\n",
        "\n",
        "The importance of closing a file in Python is to ensure all data is properly written and saved, release system resources like file handles, and prevent data corruption or memory leaks. Closing files explicitly also avoids issues where changes may not appear until the file is closed, and helps keep the program efficient and stable."
      ],
      "metadata": {
        "id": "spf_VWoKxdi7"
      }
    },
    {
      "cell_type": "markdown",
      "source": [
        "20.What is the difference between file.read() and file.readline() in Python?\n",
        "\n",
        "The difference between file.read() and file.readline() in Python is:\n",
        "\n",
        "- file.read() reads the entire contents of the file (or a specified number of characters) as a single string.\n",
        "\n",
        "- file.readline() reads one line at a time from the file, returning it as a string including the newline character.\n",
        "\n",
        "read() is used when you want to get all file content at once, while readline() is useful for processing large files line by line to save memory"
      ],
      "metadata": {
        "id": "3CRcghk2xneQ"
      }
    },
    {
      "cell_type": "markdown",
      "source": [
        "21.What is the logging module in Python used for?\n",
        "\n",
        "The logging module in Python is used for tracking and recording events that happen during program execution. It helps developers debug, monitor, and troubleshoot applications by capturing messages about errors, warnings, informational events, and debugging details. The module supports different logging levels, flexible output destinations (like files or consoles), and customizable message formats, making it a powerful tool for maintaining and improving software quality."
      ],
      "metadata": {
        "id": "wajaBG69xyDr"
      }
    },
    {
      "cell_type": "markdown",
      "source": [
        "22.What is the os module in Python used for in file handling?\n",
        "\n",
        "The os module in Python is used for file handling to interact with the operating system. It provides functions to perform tasks like creating, deleting, renaming, and moving files and directories. It also allows checking file existence, getting file properties (size, permissions), and managing file system metadata, enabling more advanced and system-level file operations beyond basic reading and writing."
      ],
      "metadata": {
        "id": "mp00IVqjx6cL"
      }
    },
    {
      "cell_type": "markdown",
      "source": [
        "23.What are the challenges associated with memory management in Python?\n",
        "\n",
        "The challenges associated with memory management in Python include:\n",
        "\n",
        "- Handling circular references that reference counting alone cannot clean up, leading to potential memory leaks.\n",
        "\n",
        "- Managing unexpected memory growth and leaks in long-running applications.\n",
        "\n",
        "- The automatic nature of Python’s memory management can hide memory issues from developers, making it hard to detect inefficient memory usage.\n",
        "\n",
        "- Dealing with garbage collection pauses which can affect the performance of real-time or performance-sensitive applications.\n",
        "\n",
        "- Limited manual control compared to lower-level languages, which can be a drawback for optimizing memory usage in some scenarios."
      ],
      "metadata": {
        "id": "VwXig3UByEFz"
      }
    },
    {
      "cell_type": "markdown",
      "source": [
        "24.How do you raise an exception manually in python?"
      ],
      "metadata": {
        "id": "1Tvvii6myUy_"
      }
    },
    {
      "cell_type": "code",
      "source": [
        "def check_value(value):\n",
        "  if value < 0:\n",
        "    raise ValueError(\"Value cannot be negative\")\n",
        "  return value\n",
        "\n",
        "try:\n",
        "  result = check_value(-5)\n",
        "except ValueError as e:\n",
        "  print(f\"Caught an exception: {e}\")"
      ],
      "metadata": {
        "colab": {
          "base_uri": "https://localhost:8080/"
        },
        "collapsed": true,
        "id": "JG8A5pfayq_5",
        "outputId": "472165f9-324c-439c-a25f-b5176d08adcd"
      },
      "execution_count": 1,
      "outputs": [
        {
          "output_type": "stream",
          "name": "stdout",
          "text": [
            "Caught an exception: Value cannot be negative\n"
          ]
        }
      ]
    },
    {
      "cell_type": "markdown",
      "source": [
        "25.Why is it important to use multithreading in certain applications?\n",
        "\n",
        "It is important to use multithreading in certain applications because it allows multiple tasks to run concurrently, improving performance and responsiveness. Multithreading is especially beneficial for I/O-bound applications where tasks spend time waiting for external resources, such as network or file operations, enabling better utilization of CPU time. It enhances user experience by keeping applications responsive, supports real-time processing, and helps handle multiple user requests simultaneously in scalable systems."
      ],
      "metadata": {
        "id": "466sI44TyuGC"
      }
    },
    {
      "cell_type": "markdown",
      "source": [
        "# **PRACTICAL QUESTIONS**"
      ],
      "metadata": {
        "id": "9YCJyCyxy8ok"
      }
    },
    {
      "cell_type": "markdown",
      "source": [
        "1.How can you open a file for writing in Python and write a string to it?"
      ],
      "metadata": {
        "id": "aOpwolJIzAC2"
      }
    },
    {
      "cell_type": "code",
      "source": [
        "# Open a file named 'my_file.txt' in write mode ('w')\n",
        "# If the file doesn't exist, it will be created.\n",
        "# If the file exists, its contents will be overwritten.\n",
        "with open('my_file.txt', 'w') as f:\n",
        "  # Write a string to the file\n",
        "  f.write('Hello, My Friend!')\n",
        "\n",
        "# You can verify the content of the file by reading it\n",
        "with open('my_file.txt', 'r') as f:\n",
        "  content = f.read()\n",
        "  print(content)"
      ],
      "metadata": {
        "colab": {
          "base_uri": "https://localhost:8080/"
        },
        "id": "lmaiuRsfzPXM",
        "outputId": "9ccc2bd0-ee4e-4769-f5e1-f684d165ffdc"
      },
      "execution_count": 2,
      "outputs": [
        {
          "output_type": "stream",
          "name": "stdout",
          "text": [
            "Hello, My Friend!\n"
          ]
        }
      ]
    },
    {
      "cell_type": "markdown",
      "source": [
        "2.Write a Python program to read the contents of a file and print each line."
      ],
      "metadata": {
        "id": "bPvn6Uu8zYSa"
      }
    },
    {
      "cell_type": "code",
      "source": [
        "# Open the file named 'my_file.txt' in read mode ('r')\n",
        "try:\n",
        "    with open('my_file.txt', 'r') as f:\n",
        "      # Read each line from the file and print it\n",
        "      for line in f:\n",
        "        print(line, end='') # end='' prevents adding an extra newline\n",
        "except FileNotFoundError:\n",
        "    print(\"Error: The file 'my_file.txt' was not found.\")"
      ],
      "metadata": {
        "colab": {
          "base_uri": "https://localhost:8080/"
        },
        "id": "xpGpFp_TzcNS",
        "outputId": "3f9d08d5-9be7-4b06-c06b-d49c04cb9cd4"
      },
      "execution_count": 3,
      "outputs": [
        {
          "output_type": "stream",
          "name": "stdout",
          "text": [
            "Hello, My Friend!"
          ]
        }
      ]
    },
    {
      "cell_type": "markdown",
      "source": [
        "3.How would you handle a case where the file doesn't exist while trying to open it for reading.\n",
        "\n",
        "In Python, you can use a try-except block to handle the case where a file doesn't exist when you try to open it for reading. The try block contains the code that might raise an error (like trying to open a non-existent file), and the except FileNotFoundError block catches the specific error that occurs when a file is not found.\n",
        "\n"
      ],
      "metadata": {
        "id": "vjFugfbbzuU4"
      }
    },
    {
      "cell_type": "code",
      "source": [
        "try:\n",
        "  with open('non_existent_file.txt', 'r') as f:\n",
        "    content = f.read()\n",
        "    print(content)\n",
        "except FileNotFoundError:\n",
        "  print(\"Error: The file was not found.\")\n",
        "except Exception as e:\n",
        "  print(f\"An unexpected error occurred: {e}\")"
      ],
      "metadata": {
        "colab": {
          "base_uri": "https://localhost:8080/"
        },
        "id": "LE7JWn5Sz8c4",
        "outputId": "9a17fa6c-f02a-46a1-e9f5-a5841012bd6e"
      },
      "execution_count": 4,
      "outputs": [
        {
          "output_type": "stream",
          "name": "stdout",
          "text": [
            "Error: The file was not found.\n"
          ]
        }
      ]
    },
    {
      "cell_type": "markdown",
      "source": [
        "4.Write a Python script that reads from one file and writes its content to another file."
      ],
      "metadata": {
        "id": "6JNdRDJ_0CNd"
      }
    },
    {
      "cell_type": "code",
      "source": [
        "try:\n",
        "    # Define the input and output file names\n",
        "    input_filename = 'my_file.txt'  # Replace with your input file name\n",
        "    output_filename = 'output_file.txt' # Replace with your desired output file name\n",
        "\n",
        "    # Open the input file for reading\n",
        "    with open(input_filename, 'r') as infile:\n",
        "        # Read the content from the input file\n",
        "        content = infile.read()\n",
        "\n",
        "    # Open the output file for writing\n",
        "    with open(output_filename, 'w') as outfile:\n",
        "        # Write the content to the output file\n",
        "        outfile.write(content)\n",
        "\n",
        "    print(f\"Content from '{input_filename}' successfully written to '{output_filename}'.\")\n",
        "\n",
        "except FileNotFoundError:\n",
        "    print(f\"Error: The input file '{input_filename}' was not found.\")\n",
        "except Exception as e:\n",
        "    print(f\"An error occurred: {e}\")"
      ],
      "metadata": {
        "colab": {
          "base_uri": "https://localhost:8080/"
        },
        "id": "fNhtMw_U0UiX",
        "outputId": "0cff67ee-6a28-41fd-befd-343efce0011a"
      },
      "execution_count": 5,
      "outputs": [
        {
          "output_type": "stream",
          "name": "stdout",
          "text": [
            "Content from 'my_file.txt' successfully written to 'output_file.txt'.\n"
          ]
        }
      ]
    },
    {
      "cell_type": "markdown",
      "source": [
        "5.How would you catch and handle division by zero error in Python."
      ],
      "metadata": {
        "id": "hIeAb9Xi0Wu2"
      }
    },
    {
      "cell_type": "code",
      "source": [
        "try:\n",
        "  numerator = 10\n",
        "  denominator = 0\n",
        "  result = numerator / denominator\n",
        "  print(result)\n",
        "except ZeroDivisionError:\n",
        "  print(\"Error: Cannot divide by zero!\")\n",
        "except Exception as e:\n",
        "  print(f\"An unexpected error occurred: {e}\")"
      ],
      "metadata": {
        "id": "KG0nyTK90g3e"
      },
      "execution_count": null,
      "outputs": []
    },
    {
      "cell_type": "markdown",
      "source": [
        "6. Write a Python program that logs an error message to a log file when a division by zero exception occurs."
      ],
      "metadata": {
        "id": "AgF_nYGl0h_E"
      }
    },
    {
      "cell_type": "code",
      "source": [
        "import logging\n",
        "\n",
        "# Configure logging to write to a file\n",
        "logging.basicConfig(filename='error.log', level=logging.ERROR)\n",
        "\n",
        "try:\n",
        "  numerator = 10\n",
        "  denominator = 0\n",
        "  result = numerator / denominator\n",
        "  print(result)\n",
        "except ZeroDivisionError:\n",
        "  logging.error(\"Division by zero error occurred!\")\n",
        "  print(\"Error: Cannot divide by zero! An error has been logged.\")\n",
        "except Exception as e:\n",
        "  logging.error(f\"An unexpected error occurred: {e}\")\n",
        "  print(f\"An unexpected error occurred: {e}. An error has been logged.\")"
      ],
      "metadata": {
        "colab": {
          "base_uri": "https://localhost:8080/"
        },
        "id": "rWO9TWtz0ryn",
        "outputId": "2d7ef3b5-dbb8-4de0-9de9-512b73a1128c"
      },
      "execution_count": 6,
      "outputs": [
        {
          "output_type": "stream",
          "name": "stderr",
          "text": [
            "ERROR:root:Division by zero error occurred!\n"
          ]
        },
        {
          "output_type": "stream",
          "name": "stdout",
          "text": [
            "Error: Cannot divide by zero! An error has been logged.\n"
          ]
        }
      ]
    },
    {
      "cell_type": "markdown",
      "source": [
        "7.How do you log information at different levels (INFO, ERROR, WARNING) in Python using the logging module?"
      ],
      "metadata": {
        "id": "laXDkUjN0s98"
      }
    },
    {
      "cell_type": "code",
      "source": [
        "import logging\n",
        "\n",
        "# Configure logging (optional, for basic output to console)\n",
        "logging.basicConfig(level=logging.INFO)\n",
        "\n",
        "logging.info(\"This is an informational message.\")\n",
        "logging.warning(\"This is a warning message.\")\n",
        "logging.error(\"This is an error message.\")"
      ],
      "metadata": {
        "colab": {
          "base_uri": "https://localhost:8080/"
        },
        "id": "Dc4T9tyv0wr8",
        "outputId": "470ad3a8-bc09-4b95-e1e0-b2e79dbbf1bc"
      },
      "execution_count": 7,
      "outputs": [
        {
          "output_type": "stream",
          "name": "stderr",
          "text": [
            "WARNING:root:This is a warning message.\n",
            "ERROR:root:This is an error message.\n"
          ]
        }
      ]
    },
    {
      "cell_type": "markdown",
      "source": [
        "8.Write a program to handle a file opening error using exception handling."
      ],
      "metadata": {
        "id": "-xP--kWI06Qz"
      }
    },
    {
      "cell_type": "code",
      "source": [
        "try:\n",
        "    # Attempt to open a file for reading\n",
        "    with open(\"my_non_existent_file.txt\", \"r\") as file:\n",
        "        content = file.read()\n",
        "        print(content)\n",
        "except FileNotFoundError:\n",
        "    print(\"Error: The file was not found.\")\n",
        "except IOError:\n",
        "    print(\"Error: An I/O error occurred while trying to read the file.\")\n",
        "except Exception as e:\n",
        "    print(f\"An unexpected error occurred: {e}\")"
      ],
      "metadata": {
        "colab": {
          "base_uri": "https://localhost:8080/"
        },
        "id": "OIe755Gq0_Yq",
        "outputId": "7dd9176b-72f3-4b4d-8ba4-1b6a88ba2b73"
      },
      "execution_count": 8,
      "outputs": [
        {
          "output_type": "stream",
          "name": "stdout",
          "text": [
            "Error: The file was not found.\n"
          ]
        }
      ]
    },
    {
      "cell_type": "markdown",
      "source": [
        "9.How can you read a file line by line and store its content in a list in Python?"
      ],
      "metadata": {
        "id": "r_CDShE-1DAe"
      }
    },
    {
      "cell_type": "code",
      "source": [
        "try:\n",
        "    file_path = 'my_file.txt'  # Replace with your file path\n",
        "    lines = []\n",
        "    with open(file_path, 'r') as file:\n",
        "        for line in file:\n",
        "            lines.append(line.strip()) # .strip() removes leading/trailing whitespace and newline characters\n",
        "\n",
        "    print(\"Content of the file as a list of lines:\")\n",
        "    print(lines)\n",
        "\n",
        "except FileNotFoundError:\n",
        "    print(f\"Error: The file '{file_path}' was not found.\")\n",
        "except Exception as e:\n",
        "    print(f\"An unexpected error occurred: {e}\")"
      ],
      "metadata": {
        "id": "1_gICcJp1HdA"
      },
      "execution_count": null,
      "outputs": []
    },
    {
      "cell_type": "markdown",
      "source": [
        "10. How can you append data to an existing file in Python?"
      ],
      "metadata": {
        "id": "vJX3NpMg1N0n"
      }
    },
    {
      "cell_type": "code",
      "source": [
        "try:\n",
        "    file_path = 'my_file.txt'  # Replace with your file path\n",
        "    data_to_append = \"\\nThis line is appended to the file.\" # Data to append\n",
        "\n",
        "    with open(file_path, 'a') as file:\n",
        "        file.write(data_to_append)\n",
        "\n",
        "    print(f\"Data successfully appended to '{file_path}'.\")\n",
        "\n",
        "except FileNotFoundError:\n",
        "    print(f\"Error: The file '{file_path}' was not found.\")\n",
        "except Exception as e:\n",
        "    print(f\"An unexpected error occurred: {e}\")"
      ],
      "metadata": {
        "colab": {
          "base_uri": "https://localhost:8080/"
        },
        "id": "Ojtd-7X51R8X",
        "outputId": "5641b285-bd65-44bc-c2a5-67aa6b1864fb"
      },
      "execution_count": 9,
      "outputs": [
        {
          "output_type": "stream",
          "name": "stdout",
          "text": [
            "Data successfully appended to 'my_file.txt'.\n"
          ]
        }
      ]
    },
    {
      "cell_type": "markdown",
      "source": [
        "11.Write a Python program that uses a try-except block to handle an error when attempting to access a\n",
        "dictionary key that doesn't exist."
      ],
      "metadata": {
        "id": "DY2vCyhl1XuO"
      }
    },
    {
      "cell_type": "code",
      "source": [
        "my_dict = {\"name\": \"Alice\", \"age\": 30}\n",
        "\n",
        "try:\n",
        "  value = my_dict[\"city\"]\n",
        "  print(value)\n",
        "except KeyError:\n",
        "  print(\"Error: The specified key does not exist in the dictionary.\")\n",
        "except Exception as e:\n",
        "  print(f\"An unexpected error occurred: {e}\")"
      ],
      "metadata": {
        "colab": {
          "base_uri": "https://localhost:8080/"
        },
        "id": "lH6W82Jz1c43",
        "outputId": "4997ab1a-22a4-4bf9-8de9-15d6fa9c2c6c"
      },
      "execution_count": 10,
      "outputs": [
        {
          "output_type": "stream",
          "name": "stdout",
          "text": [
            "Error: The specified key does not exist in the dictionary.\n"
          ]
        }
      ]
    },
    {
      "cell_type": "markdown",
      "source": [
        "12.Write a program that demonstrates using multiple except blocks to handle different types of exceptions."
      ],
      "metadata": {
        "id": "21YtWkd61jHp"
      }
    },
    {
      "cell_type": "code",
      "source": [
        "try:\n",
        "    num1 = int(input(\"Enter a number: \"))\n",
        "    num2 = int(input(\"Enter another number: \"))\n",
        "    result = num1 / num2\n",
        "    print(f\"Result: {result}\")\n",
        "\n",
        "except ValueError:\n",
        "    print(\"Error: Invalid input. Please enter integers only.\")\n",
        "except ZeroDivisionError:\n",
        "    print(\"Error: Cannot divide by zero!\")\n",
        "except Exception as e:\n",
        "    print(f\"An unexpected error occurred: {e}\")"
      ],
      "metadata": {
        "colab": {
          "base_uri": "https://localhost:8080/"
        },
        "id": "eXglgllc1mEn",
        "outputId": "8264b98f-de14-429d-ae15-388ac39d83a9"
      },
      "execution_count": 11,
      "outputs": [
        {
          "output_type": "stream",
          "name": "stdout",
          "text": [
            "Enter a number: 45\n",
            "Enter another number: 5\n",
            "Result: 9.0\n"
          ]
        }
      ]
    },
    {
      "cell_type": "markdown",
      "source": [
        "13.How would you check if a file exists before attempting to read it in Python?"
      ],
      "metadata": {
        "id": "yjPXFKX71wPu"
      }
    },
    {
      "cell_type": "code",
      "source": [
        "import os\n",
        "\n",
        "file_path = 'my_file.txt'  # Replace with your file path\n",
        "\n",
        "if os.path.exists(file_path):\n",
        "  print(f\"The file '{file_path}' exists.\")\n",
        "  try:\n",
        "    with open(file_path, 'r') as file:\n",
        "      content = file.read()\n",
        "      print(\"File content:\")\n",
        "      print(content)\n",
        "  except IOError:\n",
        "    print(f\"Error: An I/O error occurred while trying to read the file '{file_path}'.\")\n",
        "  except Exception as e:\n",
        "    print(f\"An unexpected error occurred: {e}\")\n",
        "else:\n",
        "  print(f\"The file '{file_path}' does not exist.\")"
      ],
      "metadata": {
        "colab": {
          "base_uri": "https://localhost:8080/"
        },
        "id": "jbtMP6q02qTH",
        "outputId": "fd82e365-9ad9-4e81-b446-2e423e0df76e"
      },
      "execution_count": 12,
      "outputs": [
        {
          "output_type": "stream",
          "name": "stdout",
          "text": [
            "The file 'my_file.txt' exists.\n",
            "File content:\n",
            "Hello, My Friend!\n",
            "This line is appended to the file.\n"
          ]
        }
      ]
    },
    {
      "cell_type": "markdown",
      "source": [
        "14.Write a program that uses the logging module to log both informational and error messages."
      ],
      "metadata": {
        "id": "3jbQxF5Y2v_q"
      }
    },
    {
      "cell_type": "code",
      "source": [
        "import logging\n",
        "\n",
        "# Configure logging to output to the console\n",
        "logging.basicConfig(level=logging.INFO)\n",
        "\n",
        "logging.info(\"This is an informational message.\")\n",
        "\n",
        "try:\n",
        "    result = 10 / 0\n",
        "except ZeroDivisionError:\n",
        "    logging.error(\"An error occurred: Division by zero.\")\n",
        "\n",
        "logging.info(\"Program finished.\")"
      ],
      "metadata": {
        "colab": {
          "base_uri": "https://localhost:8080/"
        },
        "id": "hyzk-kn620Cl",
        "outputId": "2c4106d4-78eb-41a1-b4aa-7e035cc8818c"
      },
      "execution_count": 13,
      "outputs": [
        {
          "output_type": "stream",
          "name": "stderr",
          "text": [
            "ERROR:root:An error occurred: Division by zero.\n"
          ]
        }
      ]
    },
    {
      "cell_type": "markdown",
      "source": [
        "15.Write a Python program that prints the content of a file and handles the case when the file is empty."
      ],
      "metadata": {
        "id": "765StceJ26la"
      }
    },
    {
      "cell_type": "code",
      "source": [
        "try:\n",
        "    file_path = 'my_file.txt'  # Replace with your file path\n",
        "\n",
        "    with open(file_path, 'r') as file:\n",
        "        content = file.read()\n",
        "\n",
        "    if content:\n",
        "        print(\"File content:\")\n",
        "        print(content)\n",
        "    else:\n",
        "        print(f\"The file '{file_path}' is empty.\")\n",
        "\n",
        "except FileNotFoundError:\n",
        "    print(f\"Error: The file '{file_path}' was not found.\")\n",
        "except Exception as e:\n",
        "    print(f\"An unexpected error occurred: {e}\")"
      ],
      "metadata": {
        "colab": {
          "base_uri": "https://localhost:8080/"
        },
        "id": "OODTX71L2-m1",
        "outputId": "800616dd-e074-4bbf-cdd0-2e4cf28ccc9a"
      },
      "execution_count": 14,
      "outputs": [
        {
          "output_type": "stream",
          "name": "stdout",
          "text": [
            "File content:\n",
            "Hello, My Friend!\n",
            "This line is appended to the file.\n"
          ]
        }
      ]
    },
    {
      "cell_type": "markdown",
      "source": [
        "16.Demonstrate how to use memory profiling to check the memory usage of a small program."
      ],
      "metadata": {
        "id": "g5TaQvNA3FUK"
      }
    },
    {
      "cell_type": "code",
      "source": [
        "from memory_profiler import profile\n",
        "\n",
        "@profile\n",
        "def create_list():\n",
        "  my_list = []\n",
        "  for i in range(1000000):\n",
        "    my_list.append(i)\n",
        "  return my_list\n",
        "\n",
        "if __name__ == '__main__':\n",
        "  my_list = create_list()\n",
        "  print(\"List creation finished.\")"
      ],
      "metadata": {
        "colab": {
          "base_uri": "https://localhost:8080/"
        },
        "id": "toZ1kGjy3ujq",
        "outputId": "2e712416-ecb3-4200-d6a6-d1cb64133db9"
      },
      "execution_count": 17,
      "outputs": [
        {
          "output_type": "stream",
          "name": "stdout",
          "text": [
            "ERROR: Could not find file /tmp/ipython-input-2230222219.py\n",
            "List creation finished.\n"
          ]
        }
      ]
    },
    {
      "cell_type": "markdown",
      "source": [
        "17.Write a Python program to create and write a list of numbers to a file, one number per line."
      ],
      "metadata": {
        "id": "bcAoTUPK35Ie"
      }
    },
    {
      "cell_type": "code",
      "source": [
        "try:\n",
        "    file_path = 'numbers_list.txt'  # Replace with your desired file path\n",
        "    numbers = [i for i in range(1, 11)]  # Example list of numbers\n",
        "\n",
        "    with open(file_path, 'w') as file:\n",
        "        for number in numbers:\n",
        "            file.write(str(number) + '\\n') # Convert number to string and add newline\n",
        "\n",
        "    print(f\"List of numbers successfully written to '{file_path}'.\")\n",
        "\n",
        "except IOError:\n",
        "    print(f\"Error: An I/O error occurred while trying to write to the file '{file_path}'.\")\n",
        "except Exception as e:\n",
        "    print(f\"An unexpected error occurred: {e}\")"
      ],
      "metadata": {
        "colab": {
          "base_uri": "https://localhost:8080/"
        },
        "id": "aiHTxzBK4EFU",
        "outputId": "8f9d4823-9dfa-4020-c810-216183c57c03"
      },
      "execution_count": 18,
      "outputs": [
        {
          "output_type": "stream",
          "name": "stdout",
          "text": [
            "List of numbers successfully written to 'numbers_list.txt'.\n"
          ]
        }
      ]
    },
    {
      "cell_type": "markdown",
      "source": [
        "18.How would you implement a basic logging setup that logs to a file with rotation after 1MB?"
      ],
      "metadata": {
        "id": "vTHxKldw4FT8"
      }
    },
    {
      "cell_type": "code",
      "source": [
        "import logging\n",
        "from logging.handlers import RotatingFileHandler\n",
        "\n",
        "# Configure the logger\n",
        "logger = logging.getLogger('my_logger')\n",
        "logger.setLevel(logging.INFO)\n",
        "\n",
        "# Create a rotating file handler (log file will rotate after 1MB)\n",
        "handler = RotatingFileHandler('my_rotated_log.log', maxBytes=1024 * 1024, backupCount=5) # 1MB = 1024 * 1024 bytes, keep 5 backup files\n",
        "\n",
        "# Create a formatter\n",
        "formatter = logging.Formatter('%(asctime)s - %(name)s - %(levelname)s - %(message)s')\n",
        "\n",
        "# Set the formatter for the handler\n",
        "handler.setFormatter(formatter)\n",
        "\n",
        "# Add the handler to the logger\n",
        "logger.addHandler(handler)\n",
        "\n",
        "# Log some messages\n",
        "logger.info(\"This is an informational message.\")\n",
        "logger.error(\"This is an error message.\")\n",
        "logger.warning(\"This is a warning message.\")\n",
        "\n",
        "print(\"Log messages written to 'my_rotated_log.log'\")"
      ],
      "metadata": {
        "colab": {
          "base_uri": "https://localhost:8080/"
        },
        "id": "fzQSWn-K4KnJ",
        "outputId": "52606a14-4f11-4943-8247-af55f117ea65"
      },
      "execution_count": 19,
      "outputs": [
        {
          "output_type": "stream",
          "name": "stderr",
          "text": [
            "INFO:my_logger:This is an informational message.\n",
            "ERROR:my_logger:This is an error message.\n",
            "WARNING:my_logger:This is a warning message.\n"
          ]
        },
        {
          "output_type": "stream",
          "name": "stdout",
          "text": [
            "Log messages written to 'my_rotated_log.log'\n"
          ]
        }
      ]
    },
    {
      "cell_type": "markdown",
      "source": [
        "19.Write a program that handles both IndexError and KeyError using a try-except block."
      ],
      "metadata": {
        "id": "zYcMCPG14S3N"
      }
    },
    {
      "cell_type": "code",
      "source": [
        "my_list = [1, 2, 3]\n",
        "my_dict = {\"a\": 1, \"b\": 2}\n",
        "\n",
        "try:\n",
        "    # Attempt to access an index that doesn't exist (IndexError)\n",
        "    print(my_list[3])\n",
        "\n",
        "    # Attempt to access a dictionary key that doesn't exist (KeyError)\n",
        "    print(my_dict[\"c\"])\n",
        "\n",
        "except IndexError:\n",
        "    print(\"Error: Invalid list index.\")\n",
        "except KeyError:\n",
        "    print(\"Error: Invalid dictionary key.\")\n",
        "except Exception as e:\n",
        "    print(f\"An unexpected error occurred: {e}\")"
      ],
      "metadata": {
        "colab": {
          "base_uri": "https://localhost:8080/"
        },
        "id": "KBagpy-y4WJZ",
        "outputId": "bfe0d200-9478-4426-d876-357eb815e156"
      },
      "execution_count": 20,
      "outputs": [
        {
          "output_type": "stream",
          "name": "stdout",
          "text": [
            "Error: Invalid list index.\n"
          ]
        }
      ]
    },
    {
      "cell_type": "markdown",
      "source": [
        "20.How would you open a file and read its contents using a context manager in Python?"
      ],
      "metadata": {
        "id": "Bf2ch1uV4dO9"
      }
    },
    {
      "cell_type": "code",
      "source": [
        "try:\n",
        "    file_path = 'my_file.txt'  # Replace with your file path\n",
        "\n",
        "    with open(file_path, 'r') as file:\n",
        "        content = file.read()\n",
        "        print(\"File content:\")\n",
        "        print(content)\n",
        "\n",
        "except FileNotFoundError:\n",
        "    print(f\"Error: The file '{file_path}' was not found.\")\n",
        "except Exception as e:\n",
        "    print(f\"An unexpected error occurred: {e}\")"
      ],
      "metadata": {
        "colab": {
          "base_uri": "https://localhost:8080/"
        },
        "id": "4rSa8knt4gxY",
        "outputId": "7847fa04-fb57-400c-9e4a-096e211b2f32"
      },
      "execution_count": 21,
      "outputs": [
        {
          "output_type": "stream",
          "name": "stdout",
          "text": [
            "File content:\n",
            "Hello, My Friend!\n",
            "This line is appended to the file.\n"
          ]
        }
      ]
    },
    {
      "cell_type": "markdown",
      "source": [
        "21.Write a Python program that reads a file and prints the number of occurrences of a specific word."
      ],
      "metadata": {
        "id": "Rr40_rL74nlL"
      }
    },
    {
      "cell_type": "code",
      "source": [
        "import re\n",
        "\n",
        "try:\n",
        "    file_path = 'my_file.txt'  # Replace with your file path\n",
        "    word_to_find = 'the'  # Replace with the word you want to count\n",
        "\n",
        "    with open(file_path, 'r') as file:\n",
        "        content = file.read()\n",
        "\n",
        "    # Use regular expression to find all occurrences of the word (case-insensitive)\n",
        "    # r'\\b' matches word boundaries to ensure we match whole words\n",
        "    occurrences = re.findall(r'\\b' + re.escape(word_to_find) + r'\\b', content, re.IGNORECASE)\n",
        "\n",
        "    count = len(occurrences)\n",
        "\n",
        "    print(f\"The word '{word_to_find}' appears {count} times in the file.\")\n",
        "\n",
        "except FileNotFoundError:\n",
        "    print(f\"Error: The file '{file_path}' was not found.\")\n",
        "except Exception as e:\n",
        "    print(f\"An unexpected error occurred: {e}\")"
      ],
      "metadata": {
        "colab": {
          "base_uri": "https://localhost:8080/"
        },
        "id": "XX0wkVct4yUT",
        "outputId": "66f126c8-f88c-4ad0-9b59-3ec9c727e2b4"
      },
      "execution_count": 22,
      "outputs": [
        {
          "output_type": "stream",
          "name": "stdout",
          "text": [
            "The word 'the' appears 1 times in the file.\n"
          ]
        }
      ]
    },
    {
      "cell_type": "markdown",
      "source": [
        "22.How can you check if a file is empty before attempting to read its contents?"
      ],
      "metadata": {
        "id": "hj-OpCNf40Ph"
      }
    },
    {
      "cell_type": "code",
      "source": [
        "import os\n",
        "\n",
        "file_path = 'my_file.txt'  # Replace with your file path\n",
        "\n",
        "try:\n",
        "    if os.path.exists(file_path):\n",
        "        if os.path.getsize(file_path) > 0:\n",
        "            print(f\"The file '{file_path}' is not empty. You can proceed to read it.\")\n",
        "            # You can add your file reading logic here\n",
        "            # with open(file_path, 'r') as file:\n",
        "            #     content = file.read()\n",
        "            #     print(\"File content:\")\n",
        "            #     print(content)\n",
        "        else:\n",
        "            print(f\"The file '{file_path}' is empty.\")\n",
        "    else:\n",
        "        print(f\"The file '{file_path}' does not exist.\")\n",
        "\n",
        "except FileNotFoundError:\n",
        "    print(f\"Error: The file '{file_path}' was not found.\") # This is redundant with os.path.exists but included for completeness\n",
        "except Exception as e:\n",
        "    print(f\"An unexpected error occurred: {e}\")"
      ],
      "metadata": {
        "colab": {
          "base_uri": "https://localhost:8080/"
        },
        "id": "0jAr86fO4432",
        "outputId": "c97bbc11-28ed-4953-8fa0-307cb56e77a7"
      },
      "execution_count": 23,
      "outputs": [
        {
          "output_type": "stream",
          "name": "stdout",
          "text": [
            "The file 'my_file.txt' is not empty. You can proceed to read it.\n"
          ]
        }
      ]
    },
    {
      "cell_type": "markdown",
      "source": [
        "23.Write a Python program that writes to a log file when an error occurs during file handling."
      ],
      "metadata": {
        "id": "cPWvc9eg4_yA"
      }
    },
    {
      "cell_type": "code",
      "source": [
        "import logging\n",
        "\n",
        "# Configure logging to write errors to a file\n",
        "logging.basicConfig(filename='file_errors.log', level=logging.ERROR,\n",
        "                    format='%(asctime)s - %(levelname)s - %(message)s')\n",
        "\n",
        "try:\n",
        "    # Attempt a file operation that might cause an error (e.g., opening a non-existent file for reading)\n",
        "    with open('non_existent_file_for_logging.txt', 'r') as file:\n",
        "        content = file.read()\n",
        "        print(content)\n",
        "\n",
        "except FileNotFoundError:\n",
        "    logging.error(\"Attempted to open a non-existent file.\")\n",
        "    print(\"Error: The file was not found. An error has been logged.\")\n",
        "except IOError:\n",
        "    logging.error(\"An I/O error occurred during file handling.\")\n",
        "    print(\"Error: An I/O error occurred. An error has been logged.\")\n",
        "except Exception as e:\n",
        "    logging.error(f\"An unexpected error occurred during file handling: {e}\")\n",
        "    print(f\"An unexpected error occurred: {e}. An error has been logged.\")"
      ],
      "metadata": {
        "colab": {
          "base_uri": "https://localhost:8080/"
        },
        "id": "CGHLYaqZ5IbR",
        "outputId": "820f436b-59d6-4dbe-f691-740ed2741aed"
      },
      "execution_count": 24,
      "outputs": [
        {
          "output_type": "stream",
          "name": "stderr",
          "text": [
            "ERROR:root:Attempted to open a non-existent file.\n"
          ]
        },
        {
          "output_type": "stream",
          "name": "stdout",
          "text": [
            "Error: The file was not found. An error has been logged.\n"
          ]
        }
      ]
    }
  ]
}